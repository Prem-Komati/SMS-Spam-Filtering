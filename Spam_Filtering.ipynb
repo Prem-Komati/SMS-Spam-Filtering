{
  "nbformat": 4,
  "nbformat_minor": 0,
  "metadata": {
    "colab": {
      "name": "Spam Filtering.ipynb",
      "provenance": [],
      "collapsed_sections": []
    },
    "kernelspec": {
      "name": "python3",
      "display_name": "Python 3"
    },
    "language_info": {
      "name": "python"
    }
  },
  "cells": [
    {
      "cell_type": "code",
      "metadata": {
        "colab": {
          "base_uri": "https://localhost:8080/"
        },
        "id": "zTJcdQRQyC4T",
        "outputId": "870b95cc-6bea-458c-dbb4-f11ac585fec2"
      },
      "source": [
        "!pip install -q tflite-model-maker"
      ],
      "execution_count": null,
      "outputs": [
        {
          "output_type": "stream",
          "name": "stdout",
          "text": [
            "\u001b[K     |████████████████████████████████| 616 kB 4.0 MB/s \n",
            "\u001b[K     |████████████████████████████████| 596 kB 37.5 MB/s \n",
            "\u001b[K     |████████████████████████████████| 840 kB 70.9 MB/s \n",
            "\u001b[K     |████████████████████████████████| 120 kB 67.8 MB/s \n",
            "\u001b[K     |████████████████████████████████| 64 kB 3.0 MB/s \n",
            "\u001b[K     |████████████████████████████████| 3.4 MB 11.1 MB/s \n",
            "\u001b[K     |████████████████████████████████| 1.1 MB 16.6 MB/s \n",
            "\u001b[K     |████████████████████████████████| 87 kB 6.1 MB/s \n",
            "\u001b[K     |████████████████████████████████| 1.2 MB 47.8 MB/s \n",
            "\u001b[K     |████████████████████████████████| 213 kB 57.5 MB/s \n",
            "\u001b[K     |████████████████████████████████| 6.3 MB 39.9 MB/s \n",
            "\u001b[K     |████████████████████████████████| 1.1 MB 35.7 MB/s \n",
            "\u001b[K     |████████████████████████████████| 25.3 MB 1.6 MB/s \n",
            "\u001b[K     |████████████████████████████████| 352 kB 76.0 MB/s \n",
            "\u001b[K     |████████████████████████████████| 99 kB 8.0 MB/s \n",
            "\u001b[K     |████████████████████████████████| 47.6 MB 73 kB/s \n",
            "\u001b[K     |████████████████████████████████| 208 kB 46.4 MB/s \n",
            "\u001b[?25h  Building wheel for fire (setup.py) ... \u001b[?25l\u001b[?25hdone\n",
            "  Building wheel for py-cpuinfo (setup.py) ... \u001b[?25l\u001b[?25hdone\n"
          ]
        }
      ]
    },
    {
      "cell_type": "code",
      "metadata": {
        "id": "MLcWcSuW06kR"
      },
      "source": [
        "import numpy as np\n",
        "import os\n",
        "\n",
        "from tflite_model_maker import model_spec\n",
        "from tflite_model_maker import text_classifier\n",
        "from tflite_model_maker.config import ExportFormat\n",
        "from tflite_model_maker.text_classifier import AverageWordVecSpec\n",
        "from tflite_model_maker.text_classifier import DataLoader\n",
        "\n",
        "import tensorflow as tf\n",
        "assert tf.__version__.startswith('2')\n",
        "tf.get_logger().setLevel('ERROR')"
      ],
      "execution_count": null,
      "outputs": []
    },
    {
      "cell_type": "code",
      "metadata": {
        "id": "DoWbs2-z05Ht"
      },
      "source": [
        "spec = model_spec.get('mobilebert_classifier')"
      ],
      "execution_count": 7,
      "outputs": []
    },
    {
      "cell_type": "code",
      "metadata": {
        "id": "aC8iChy55kAa"
      },
      "source": [
        "data = DataLoader.from_csv(\n",
        "    filename='/content/lmblog_comments1.csv',\n",
        "    text_column='commenttext',\n",
        "    label_column='spam',\n",
        "    model_spec=spec,\n",
        "    delimiter=',',\n",
        "    shuffle=True,\n",
        "    is_training=True)\n",
        "\n",
        "train_data, test_data = data.split(0.8)"
      ],
      "execution_count": 8,
      "outputs": []
    },
    {
      "cell_type": "code",
      "metadata": {
        "colab": {
          "base_uri": "https://localhost:8080/"
        },
        "id": "QNeqce_X5n5I",
        "outputId": "33616e9b-469c-4d1b-e7ed-ea74329dfcae"
      },
      "source": [
        "model = text_classifier.create(train_data, model_spec=spec, epochs=3, \n",
        "                               validation_data=test_data)"
      ],
      "execution_count": 9,
      "outputs": [
        {
          "output_type": "stream",
          "name": "stdout",
          "text": [
            "16/16 [==============================] - 436s 24s/step - loss: 0.6541 - test_accuracy: 0.8151 - val_loss: 0.2131 - val_test_accuracy: 0.9050\n",
            "Epoch 2/2\n",
            "16/16 [==============================] - 358s 22s/step - loss: 0.1882 - test_accuracy: 0.9232 - val_loss: 0.0973 - val_test_accuracy: 0.9600\n",
            "Epoch 3/3\n",
            "16/16 [==============================] - 366s 23s/step - loss: 0.1234 - test_accuracy: 0.9557 - val_loss: 0.0992 - val_test_accuracy: 0.9550\n"
          ]
        }
      ]
    },
    {
      "cell_type": "code",
      "metadata": {
        "colab": {
          "base_uri": "https://localhost:8080/"
        },
        "id": "9rBwmY6wRNVS",
        "outputId": "5edd4eb0-cbd5-4de1-e79c-fb9671c9efb0"
      },
      "source": [
        "model.summary()"
      ],
      "execution_count": 10,
      "outputs": [
        {
          "output_type": "stream",
          "name": "stdout",
          "text": [
            "Model: \"model\"\n",
            "__________________________________________________________________________________________________\n",
            " Layer (type)                   Output Shape         Param #     Connected to                     \n",
            "==================================================================================================\n",
            " input_word_ids (InputLayer)    [(None, 128)]        0           []                               \n",
            "                                                                                                  \n",
            " input_mask (InputLayer)        [(None, 128)]        0           []                               \n",
            "                                                                                                  \n",
            " input_type_ids (InputLayer)    [(None, 128)]        0           []                               \n",
            "                                                                                                  \n",
            " hub_keras_layer_v1v2 (HubKeras  (None, 512)         24581888    ['input_word_ids[0][0]',         \n",
            " LayerV1V2)                                                       'input_mask[0][0]',             \n",
            "                                                                  'input_type_ids[0][0]']         \n",
            "                                                                                                  \n",
            " dropout (Dropout)              (None, 512)          0           ['hub_keras_layer_v1v2[0][0]']   \n",
            "                                                                                                  \n",
            " output (Dense)                 (None, 2)            1026        ['dropout[0][0]']                \n",
            "                                                                                                  \n",
            "==================================================================================================\n",
            "Total params: 24,582,914\n",
            "Trainable params: 24,582,914\n",
            "Non-trainable params: 0\n",
            "__________________________________________________________________________________________________\n"
          ]
        }
      ]
    },
    {
      "cell_type": "code",
      "metadata": {
        "colab": {
          "base_uri": "https://localhost:8080/"
        },
        "id": "j_RR7C1Fy5_A",
        "outputId": "39f01405-6e2b-4adc-dd64-35d392222d03"
      },
      "source": [
        "model.evaluate(test_data)"
      ],
      "execution_count": null,
      "outputs": [
        {
          "output_type": "stream",
          "name": "stdout",
          "text": [
            "7/7 [==============================] - 24s 3s/step - loss: 0.0992 - test_accuracy: 0.9550\n"
          ]
        }
      ]
    },
    {
      "cell_type": "code",
      "metadata": {
        "id": "WnaU-VSkRVM5"
      },
      "source": [
        "model.export(export_dir='mobilebert_classifier')"
      ],
      "execution_count": null,
      "outputs": []
    }
  ]
}